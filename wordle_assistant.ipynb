{
 "cells": [
  {
   "cell_type": "code",
   "execution_count": 4,
   "metadata": {},
   "outputs": [],
   "source": [
    "#import stuff \n",
    "from wordle import Wordle\n",
    "from collections import Counter\n",
    "import math\n",
    "try: \n",
    "    from tqdm import tqdm\n",
    "except ImportError as e :\n",
    "    tqdm = lambda x: x\n"
   ]
  },
  {
   "cell_type": "code",
   "execution_count": 5,
   "metadata": {},
   "outputs": [],
   "source": [
    "# new way of inputting information \n",
    "\n",
    "# Here to input information, put in your five letter guess, \n",
    "# followed by the response in the following way: \n",
    "#  put ('guess','response'), on the list, where each character of 'response' \n",
    "#  indicates the color that the corresponding character of the guess turned: \n",
    "#    *  if the Tile turned green,  put 'g'\n",
    "#    *  if the Tile turned yellow, put 'y'\n",
    "#    *  if the Tile turned gray,   put 'x' \n",
    "# so for example if you guessed 'tears', and the correct word was 'rebut', \n",
    "#       the response string would be 'ygxyx'\n",
    "\n",
    "# You should always start with the guess 'tears' or 'soare' or 'trace', rather than re-running this program \n",
    "wordle = Wordle() # create instance of wordle words object\n",
    "\n",
    "Guesses = [\n",
    "    # ('soare','gxxxx'),  \n",
    "    # ('thilk','xxggy'),\n",
    "    # ('sight','gyxxx'),\n",
    "    # ('slick','gygxy'),\n",
    "#     ('joint','xgggg')\n",
    "]"
   ]
  },
  {
   "cell_type": "code",
   "execution_count": 16,
   "metadata": {},
   "outputs": [
    {
     "name": "stdout",
     "output_type": "stream",
     "text": [
      "{}\n",
      "[]\n",
      "\n"
     ]
    }
   ],
   "source": [
    "known_letters = {}\n",
    "yellow_letters = []\n",
    "wrong_letters = ''\n",
    "for guess,resp in Guesses: \n",
    "    for i in range(5): \n",
    "        if resp[i] == 'g': \n",
    "            known_letters[i] = guess[i]\n",
    "        elif resp[i] == 'y': \n",
    "            yellow_letters.append((i,guess[i]))\n",
    "        else: \n",
    "            wrong_letters += guess[i]\n",
    "correct_lets = [let for _,let in yellow_letters] + list(known_letters.values())   \n",
    "wrong_letters = ''.join(c for c in wrong_letters if c not in correct_lets)\n",
    "print(known_letters)\n",
    "print(yellow_letters)\n",
    "print(wrong_letters)"
   ]
  },
  {
   "cell_type": "code",
   "execution_count": 21,
   "metadata": {},
   "outputs": [
    {
     "name": "stdout",
     "output_type": "stream",
     "text": [
      "narrowing words based off of incorrect letters\n",
      "\t list size is 2315\n",
      "Too many words to display\n"
     ]
    }
   ],
   "source": [
    "possible_words = wordle.sc_words\n",
    "\n",
    "# start by narrowing based off of known letters \n",
    "for ind, val in known_letters.items():\n",
    "    if val == '' : \n",
    "        continue \n",
    "    print(f\"narrowing based off of '{val}' in spot {ind}\")\n",
    "    possible_words = [word for word in  possible_words if word[ind] == val]\n",
    "    print(f\"\\t list size is {len(list(possible_words))}\")\n",
    "\n",
    "# then look at all yellow letters \n",
    "for ind, val in yellow_letters:\n",
    "    if val == '' : \n",
    "        continue \n",
    "    print(f\"narrowing based off of '{val}' in spot {ind}\")\n",
    "    possible_words = [word for word in  possible_words if val in word and word[ind] != val]\n",
    "    print(f\"\\t list size is {len(list(possible_words))}\")\n",
    "# finally look at all letters not in the words \n",
    "\n",
    "print(\"narrowing words based off of incorrect letters\")\n",
    "for let in wrong_letters: \n",
    "    print(f\"narrowing based off of incorrect letter '{let}'\")\n",
    "#     print(let not in known_letters.values())\n",
    "#     print(list(known_letters.values()))\n",
    "    possible_words = [word for word in  possible_words if let not in word or let in known_letters.values()]\n",
    "#     print(f'list is {possible_words}')\n",
    "print(f\"\\t list size is {len(list(possible_words))}\")\n",
    "\n",
    "if len(list(possible_words))  < 40: \n",
    "    print(f\"all possible words are: {list(possible_words)}\")\n",
    "else: \n",
    "    print('Too many words to display') "
   ]
  },
  {
   "cell_type": "code",
   "execution_count": 22,
   "metadata": {},
   "outputs": [
    {
     "name": "stdout",
     "output_type": "stream",
     "text": [
      "using hard mode: False\n"
     ]
    },
    {
     "name": "stderr",
     "output_type": "stream",
     "text": [
      "100%|████████████████████████████████████| 12972/12972 [00:43<00:00, 298.55it/s]"
     ]
    },
    {
     "name": "stdout",
     "output_type": "stream",
     "text": [
      "{'guess': 'soare', 'num_uniques': 127, 'resp_distro': Counter({'xxxxx': 183, 'xxyxx': 138, 'xxxxy': 120, 'xxxyy': 117, 'xgxxx': 87, 'xxxxg': 79, 'xxyxy': 68, 'gxxxx': 63, 'xxyyy': 61, 'xyxyx': 59, 'xxxyx': 57, 'xyxxx': 56, 'xyyxx': 44, 'xxyyx': 42, 'gxgxx': 41, 'xxgxx': 40, 'xxyxg': 40, 'xxgyx': 40, 'xxxyg': 39, 'gyxxx': 37, 'gxxxy': 35, 'yxxxx': 33, 'xxgxg': 28, 'xyyyx': 27, 'xgxxy': 26, 'xgxyx': 26, 'xyxxy': 25, 'yxyxx': 23, 'gxxxg': 23, 'xgxyy': 22, 'xxgxy': 21, 'xgyxx': 21, 'xyxxg': 20, 'yxxxy': 19, 'xxgyg': 19, 'gxyxx': 19, 'gxgxg': 19, 'yxxyx': 16, 'yxyxg': 15, 'ygxxx': 15, 'yxxyy': 15, 'yxgxx': 14, 'xxxgy': 14, 'xyxyg': 14, 'xxggx': 13, 'xxxgx': 13, 'xyxyy': 13, 'gxxyy': 13, 'gyxxg': 12, 'xxygx': 11, 'ygxxg': 11, 'gxggx': 11, 'xgxxg': 10, 'gyxgx': 10, 'xxggy': 9, 'xgxyg': 9, 'gxxyx': 9, 'gxyxy': 9, 'xyyxg': 8, 'xgyyx': 8, 'xyxgx': 8, 'yxxxg': 8, 'gxyyx': 8, 'gxxgx': 8, 'yxgxg': 7, 'xxyyg': 7, 'yyxxx': 7, 'yxgyx': 7, 'yxxyg': 7, 'ggxxx': 7, 'xyygx': 6, 'xgxgx': 6, 'gxyyy': 6, 'gyxgg': 6, 'xxygy': 5, 'yxyxy': 5, 'yxgxy': 5, 'yyxxg': 5, 'xggxx': 5, 'yyxyx': 5, 'gxggg': 5, 'yxyyx': 4, 'xxggg': 4, 'xyyxy': 4, 'xxxgg': 4, 'xxgyy': 4, 'ygxyx': 4, 'gyyxx': 4, 'gxxyg': 4, 'yxyyg': 3, 'yyyxx': 3, 'yggxx': 3, 'yyxxy': 3, 'ygxyg': 3, 'xyxgy': 3, 'gxyxg': 3, 'xxygg': 2, 'xgggx': 2, 'xyxgg': 2, 'ygxyy': 2, 'ygxxy': 2, 'gxxgg': 2, 'ggxyy': 2, 'ggyyx': 2, 'gxxgy': 2, 'xyygg': 1, 'yyyyg': 1, 'yyyyx': 1, 'xygyx': 1, 'yygxx': 1, 'xgygx': 1, 'yxgyg': 1, 'xyygy': 1, 'xyggx': 1, 'xygxg': 1, 'xygxx': 1, 'yyxyg': 1, 'xggyx': 1, 'yggyx': 1, 'gyyyx': 1, 'gyxyx': 1, 'gggxx': 1, 'ggxxg': 1, 'ggxgx': 1, 'gxgyx': 1, 'yxxgx': 1, 'yyxyy': 1}), 'entropy bits': 5.8859601103788615}\n"
     ]
    },
    {
     "name": "stderr",
     "output_type": "stream",
     "text": [
      "\n"
     ]
    }
   ],
   "source": [
    "# hard mode based geussing\n",
    "hard_mode = 'Default' # currently hard mode is not garunteed to be 'optimal'. \n",
    "                 # But when only a few options are avaliable, it often performs better.\n",
    "use_count = False;\n",
    "\n",
    "if hard_mode == 'Default': \n",
    "    hard_mode  = len(possible_words) <= 8\n",
    "    print(f\"using hard mode: {hard_mode}\")\n",
    "    \n",
    "def calc_shannon_entropy(counts:Counter):\n",
    "    all_counts = [count for _,count in counts.items()]\n",
    "    all_words = sum(all_counts)\n",
    "    probs = (count / all_words  for count in all_counts)\n",
    "    return sum((-1*prob *math.log(prob,2) for prob in probs))\n",
    "\n",
    "    \n",
    "        \n",
    "\n",
    "possible_guesses = possible_words  if hard_mode else wordle.words\n",
    "best_metric = 0 \n",
    "best_guesses = []\n",
    "for guess in tqdm(possible_guesses):\n",
    "    resps = []\n",
    "    for ans in possible_words: \n",
    "        resp = ['g' if ans[i] == c else 'y' if c in ans else 'x' for i,c in enumerate(guess)]\n",
    "        resps.append(''.join(resp))\n",
    "    \n",
    "    resp_counts = Counter(resps)\n",
    "    num_uniques = len(resp_counts)\n",
    "    entropy = calc_shannon_entropy(resp_counts)\n",
    "    metric = num_uniques if use_count else entropy\n",
    "#     print(f\"{guess} has resp_count: {num_uniques} and entropy = {calc_shannon_entropy(resp_counts)} \")\n",
    "\n",
    "    if metric > best_metric: \n",
    "        best_guesses = []\n",
    "        best_metric = metric\n",
    "        \n",
    "    if metric >= best_metric: \n",
    "        entr = {\n",
    "            \"guess\":        guess,\n",
    "            \"num_uniques\":  num_uniques, \n",
    "            \"resp_distro\":  resp_counts,\n",
    "            \"entropy bits\": entropy\n",
    "        }\n",
    "        best_guesses.append(entr)\n",
    "    \n",
    "for guess in best_guesses:\n",
    "    printafterline=False\n",
    "    if guess['guess'] in possible_words and not hard_mode:\n",
    "        printafterline = True \n",
    "        print(\"Reccomended word: \")\n",
    "    print(guess)\n",
    "    if printafterline : \n",
    "        print(\" \")\n",
    "    "
   ]
  },
  {
   "cell_type": "code",
   "execution_count": 1,
   "metadata": {},
   "outputs": [],
   "source": [
    "%load_ext autoreload\n",
    "%autoreload 2\n",
    "from wordle import Wordle \n",
    "\n"
   ]
  },
  {
   "cell_type": "code",
   "execution_count": 36,
   "metadata": {},
   "outputs": [],
   "source": [
    "wordle = Wordle()\n",
    "Guesses = [\n",
    "    ('soare','gxxxx'),  \n",
    "    ('sight','gyxxx'),\n",
    "    # ('slick','gygxy'),\n",
    "#     ('joint','xgggg')\n",
    "]\n",
    "wordle.add_guesses(Guesses, reset_info=True) "
   ]
  },
  {
   "cell_type": "code",
   "execution_count": 37,
   "metadata": {},
   "outputs": [
    {
     "name": "stdout",
     "output_type": "stream",
     "text": [
      "Found 13 valid_words\n",
      "['skiff', 'skill', 'skimp', 'slick', 'slimy', 'slink', 'sniff', 'spicy', 'spiky', 'spill', 'spiny', 'squib', 'swill']\n"
     ]
    }
   ],
   "source": [
    "valid_words = wordle.get_possible_words()\n",
    "\n",
    "print(f'Found {len(valid_words)} valid_words')\n",
    "if len(valid_words) < 50: \n",
    "    print(valid_words)\n",
    "else: \n",
    "    print(\"Too many words to display\")"
   ]
  },
  {
   "cell_type": "code",
   "execution_count": 44,
   "metadata": {},
   "outputs": [
    {
     "name": "stdout",
     "output_type": "stream",
     "text": [
      "using hard mode: False\n",
      "best guess found gave 2.458311329683084 bits of information\n"
     ]
    },
    {
     "data": {
      "text/plain": [
       "[{'guess': 'plank', 'num_classes': 12, 'entropy bits': 2.458311329683084},\n",
       " {'guess': 'plink', 'num_classes': 12, 'entropy bits': 2.458311329683084},\n",
       " {'guess': 'plonk', 'num_classes': 12, 'entropy bits': 2.458311329683084},\n",
       " {'guess': 'pluck', 'num_classes': 12, 'entropy bits': 2.458311329683084},\n",
       " {'guess': 'plunk', 'num_classes': 12, 'entropy bits': 2.458311329683084}]"
      ]
     },
     "execution_count": 44,
     "metadata": {},
     "output_type": "execute_result"
    }
   ],
   "source": [
    "opt_guesses = wordle.get_best_guesses(use_entropy = True, return_arr = True,use_tqdm= False, give_distribution=True)\n",
    "opt_guesses"
   ]
  },
  {
   "cell_type": "code",
   "execution_count": null,
   "metadata": {},
   "outputs": [],
   "source": []
  }
 ],
 "metadata": {
  "kernelspec": {
   "display_name": "Python 3 (ipykernel)",
   "language": "python",
   "name": "python3"
  },
  "language_info": {
   "codemirror_mode": {
    "name": "ipython",
    "version": 3
   },
   "file_extension": ".py",
   "mimetype": "text/x-python",
   "name": "python",
   "nbconvert_exporter": "python",
   "pygments_lexer": "ipython3",
   "version": "3.7.4"
  }
 },
 "nbformat": 4,
 "nbformat_minor": 4
}
