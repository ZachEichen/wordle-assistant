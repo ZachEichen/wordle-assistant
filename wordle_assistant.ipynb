{
 "cells": [
  {
   "cell_type": "code",
   "execution_count": 1,
   "metadata": {},
   "outputs": [],
   "source": [
    "%load_ext autoreload\n",
    "%autoreload 2\n",
    "\n",
    "from wordle import Wordle \n"
   ]
  },
  {
   "cell_type": "code",
   "execution_count": 2,
   "metadata": {},
   "outputs": [],
   "source": [
    "# new way of inputting information \n",
    "\n",
    "# Here to input information, put in your five letter guess, \n",
    "# followed by the response in the following way: \n",
    "#  put ('guess','response'), on the list, where each character of 'response' \n",
    "#  indicates the color that the corresponding character of the guess turned: \n",
    "#    *  if the Tile turned green,  put 'g'\n",
    "#    *  if the Tile turned yellow, put 'y'\n",
    "#    *  if the Tile turned gray,   put 'x' \n",
    "# so for example if you guessed 'tears', and the correct word was 'rebut', \n",
    "#       the response string would be 'ygxyx'\n",
    "\n",
    "# You should always start with the guess 'tears' or 'soare' or 'trace' or 'crane', rather than re-running this program \n",
    "wordle = Wordle() # create instance of wordle words object\n",
    "\n",
    "Guesses = [\n",
    "    ('soare','gxxxx'),  \n",
    "    ('sight','gyxxx'),\n",
    "    # ('slick','gygxy'),\n",
    "#     ('joint','xgggg')\n",
    "]\n",
    "\n",
    "wordle.add_guesses(Guesses, reset_info=True) "
   ]
  },
  {
   "cell_type": "code",
   "execution_count": 3,
   "metadata": {},
   "outputs": [
    {
     "name": "stdout",
     "output_type": "stream",
     "text": [
      "Found 13 valid_words\n",
      "['skiff', 'skill', 'skimp', 'slick', 'slimy', 'slink', 'sniff', 'spicy', 'spiky', 'spill', 'spiny', 'squib', 'swill']\n"
     ]
    }
   ],
   "source": [
    "valid_words = wordle.get_possible_words()\n",
    "\n",
    "print(f'Found {len(valid_words)} valid_words')\n",
    "if len(valid_words) < 50: \n",
    "    print(valid_words)\n",
    "else: \n",
    "    print(\"Too many words to display\")"
   ]
  },
  {
   "cell_type": "code",
   "execution_count": 4,
   "metadata": {},
   "outputs": [
    {
     "name": "stdout",
     "output_type": "stream",
     "text": [
      "using hard mode: False\n",
      "best guess found gave 2.458311329683084 bits of information\n"
     ]
    },
    {
     "data": {
      "text/plain": [
       "[{'guess': 'plank', 'num_classes': 12, 'entropy bits': 2.458311329683084},\n",
       " {'guess': 'plink', 'num_classes': 12, 'entropy bits': 2.458311329683084},\n",
       " {'guess': 'plonk', 'num_classes': 12, 'entropy bits': 2.458311329683084},\n",
       " {'guess': 'pluck', 'num_classes': 12, 'entropy bits': 2.458311329683084},\n",
       " {'guess': 'plunk', 'num_classes': 12, 'entropy bits': 2.458311329683084}]"
      ]
     },
     "execution_count": 4,
     "metadata": {},
     "output_type": "execute_result"
    }
   ],
   "source": [
    "opt_guesses = wordle.get_best_guesses(use_tqdm=False)\n",
    "opt_guesses"
   ]
  },
  {
   "cell_type": "code",
   "execution_count": null,
   "metadata": {},
   "outputs": [],
   "source": []
  }
 ],
 "metadata": {
  "kernelspec": {
   "display_name": "Python 3 (ipykernel)",
   "language": "python",
   "name": "python3"
  },
  "language_info": {
   "codemirror_mode": {
    "name": "ipython",
    "version": 3
   },
   "file_extension": ".py",
   "mimetype": "text/x-python",
   "name": "python",
   "nbconvert_exporter": "python",
   "pygments_lexer": "ipython3",
   "version": "3.7.4"
  }
 },
 "nbformat": 4,
 "nbformat_minor": 4
}
