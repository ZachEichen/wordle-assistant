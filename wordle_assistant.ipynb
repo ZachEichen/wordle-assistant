{
 "cells": [
  {
   "cell_type": "code",
   "execution_count": 2,
   "metadata": {},
   "outputs": [],
   "source": [
    "#import stuff \n",
    "import wordle_words as wordle\n",
    "from collections import Counter\n",
    "import math\n",
    "try: \n",
    "    from tqdm import tqdm\n",
    "except ImportError as e :\n",
    "    tqdm = lambda x: x\n"
   ]
  },
  {
   "cell_type": "code",
   "execution_count": 28,
   "metadata": {},
   "outputs": [],
   "source": [
    "# new way of inputting information \n",
    "\n",
    "# Here to input information, put in your five letter guess, \n",
    "# followed by the response in the following way: \n",
    "#  put ('guess','response'), on the list, where each character of 'response' \n",
    "#  indicates the color that the corresponding character of the guess turned: \n",
    "#    *  if the Tile turned green,  put 'g'\n",
    "#    *  if the Tile turned yellow, put 'y'\n",
    "#    *  if the Tile turned gray,   put 'x' \n",
    "# so for example if you guessed 'tears', and the correct word was 'rebut', \n",
    "#       the response string would be 'ygxyx'\n",
    "\n",
    "# You should always start with the guess 'tears' or 'soare' or 'trace', rather than re-running this program \n",
    "\n",
    "Guesses = [\n",
    "    ('soare','xgxxx'),  \n",
    "    ('culty','xxxyx'),\n",
    "#     ('hurst','xxxxg'),\n",
    "#     ('scrim','xxxyx'),\n",
    "#     ('joint','xgggg')\n",
    "]"
   ]
  },
  {
   "cell_type": "code",
   "execution_count": 29,
   "metadata": {},
   "outputs": [
    {
     "name": "stdout",
     "output_type": "stream",
     "text": [
      "{1: 'o'}\n",
      "[(3, 't')]\n",
      "sareculy\n"
     ]
    }
   ],
   "source": [
    "known_letters = {}\n",
    "yellow_letters = []\n",
    "wrong_letters = ''\n",
    "for guess,resp in Guesses: \n",
    "    for i in range(5): \n",
    "        if resp[i] == 'g': \n",
    "            known_letters[i] = guess[i]\n",
    "        elif resp[i] == 'y': \n",
    "            yellow_letters.append((i,guess[i]))\n",
    "        else: \n",
    "            wrong_letters += guess[i]\n",
    "correct_lets = [let for _,let in yellow_letters] + list(known_letters.values())   \n",
    "wrong_letters = ''.join(c for c in wrong_letters if c not in correct_lets)\n",
    "print(known_letters)\n",
    "print(yellow_letters)\n",
    "print(wrong_letters)"
   ]
  },
  {
   "cell_type": "code",
   "execution_count": 30,
   "metadata": {},
   "outputs": [
    {
     "name": "stdout",
     "output_type": "stream",
     "text": [
      "narrowing based off of 'o' in spot 1\n",
      "\t list size is 279\n",
      "narrowing based off of 't' in spot 3\n",
      "\t list size is 53\n",
      "narrowing words based off of incorrect letters\n",
      "narrowing based off of incorrect letter 's'\n",
      "narrowing based off of incorrect letter 'a'\n",
      "narrowing based off of incorrect letter 'r'\n",
      "narrowing based off of incorrect letter 'e'\n",
      "narrowing based off of incorrect letter 'c'\n",
      "narrowing based off of incorrect letter 'u'\n",
      "narrowing based off of incorrect letter 'l'\n",
      "narrowing based off of incorrect letter 'y'\n",
      "\t list size is 5\n",
      "all possible words are: ['joint', 'motif', 'point', 'toxin', 'vomit']\n"
     ]
    }
   ],
   "source": [
    "possible_words = wordle.sc_words\n",
    "\n",
    "# start by narrowing based off of known letters \n",
    "for ind, val in known_letters.items():\n",
    "    if val == '' : \n",
    "        continue \n",
    "    print(f\"narrowing based off of '{val}' in spot {ind}\")\n",
    "    possible_words = [word for word in  possible_words if word[ind] == val]\n",
    "    print(f\"\\t list size is {len(list(possible_words))}\")\n",
    "\n",
    "# then look at all yellow letters \n",
    "for ind, val in yellow_letters:\n",
    "    if val == '' : \n",
    "        continue \n",
    "    print(f\"narrowing based off of '{val}' in spot {ind}\")\n",
    "    possible_words = [word for word in  possible_words if val in word and word[ind] != val]\n",
    "    print(f\"\\t list size is {len(list(possible_words))}\")\n",
    "# finally look at all letters not in the words \n",
    "\n",
    "print(\"narrowing words based off of incorrect letters\")\n",
    "for let in wrong_letters: \n",
    "    print(f\"narrowing based off of incorrect letter '{let}'\")\n",
    "#     print(let not in known_letters.values())\n",
    "#     print(list(known_letters.values()))\n",
    "    possible_words = [word for word in  possible_words if let not in word or let in known_letters.values()]\n",
    "#     print(f'list is {possible_words}')\n",
    "print(f\"\\t list size is {len(list(possible_words))}\")\n",
    "\n",
    "\n",
    "print(f\"all possible words are: {list(possible_words)}\")"
   ]
  },
  {
   "cell_type": "code",
   "execution_count": 31,
   "metadata": {},
   "outputs": [
    {
     "name": "stderr",
     "output_type": "stream",
     "text": [
      "100%|██████████| 5/5 [00:00<00:00, 14208.35it/s]"
     ]
    },
    {
     "name": "stdout",
     "output_type": "stream",
     "text": [
      "using hard mode: True\n",
      "{'guess': 'joint', 'num_uniques': 5, 'resp_distro': Counter({'ggggg': 1, 'xgyxy': 1, 'xgggg': 1, 'xgyyy': 1, 'xgyxg': 1}), 'shannon_entr': 1.6094379124341005}\n",
      "{'guess': 'point', 'num_uniques': 5, 'resp_distro': Counter({'xgggg': 1, 'xgyxy': 1, 'ggggg': 1, 'xgyyy': 1, 'xgyxg': 1}), 'shannon_entr': 1.6094379124341005}\n"
     ]
    },
    {
     "name": "stderr",
     "output_type": "stream",
     "text": [
      "\n"
     ]
    }
   ],
   "source": [
    "# hard mode based geussing\n",
    "hard_mode = 'Default' # currently hard mode is not garunteed to be 'optimal'. \n",
    "                 # But when only a few options are avaliable, it often performs better.\n",
    "use_count = False;\n",
    "\n",
    "if hard_mode == 'Default': \n",
    "    hard_mode  = len(possible_words) <= 8\n",
    "    print(f\"using hard mode: {hard_mode}\")\n",
    "    \n",
    "def calc_shannon_entropy(counts:Counter):\n",
    "    all_counts = [count for _,count in counts.items()]\n",
    "    all_words = sum(all_counts)\n",
    "    probs = (count / all_words  for count in all_counts)\n",
    "    return sum((-1*prob *math.log(prob) for prob in probs))\n",
    "\n",
    "    \n",
    "        \n",
    "\n",
    "possible_guesses = possible_words  if hard_mode else wordle.words\n",
    "best_metric = 0 \n",
    "best_guesses = []\n",
    "for guess in tqdm(possible_guesses):\n",
    "    resps = []\n",
    "    for ans in possible_words: \n",
    "        resp = ['g' if ans[i] == c else 'y' if c in ans else 'x' for i,c in enumerate(guess)]\n",
    "        resps.append(''.join(resp))\n",
    "    \n",
    "    resp_counts = Counter(resps)\n",
    "    num_uniques = len(resp_counts)\n",
    "    entropy = calc_shannon_entropy(resp_counts)\n",
    "    metric = num_uniques if use_count else entropy\n",
    "#     print(f\"{guess} has resp_count: {num_uniques} and entropy = {calc_shannon_entropy(resp_counts)} \")\n",
    "\n",
    "    if metric > best_metric: \n",
    "        best_guesses = []\n",
    "        best_metric = metric\n",
    "        \n",
    "    if metric >= best_metric: \n",
    "        entr = {\n",
    "            \"guess\":        guess,\n",
    "            \"num_uniques\":  num_uniques, \n",
    "            \"resp_distro\":  resp_counts,\n",
    "            \"shannon_entr\": entropy\n",
    "        }\n",
    "        best_guesses.append(entr)\n",
    "    \n",
    "for guess in best_guesses:\n",
    "    printafterline=False\n",
    "    if guess['guess'] in possible_words and not hard_mode:\n",
    "        printafterline = True \n",
    "        print(\"Reccomended word: \")\n",
    "    print(guess)\n",
    "    if printafterline : \n",
    "        print(\" \")\n",
    "    "
   ]
  },
  {
   "cell_type": "raw",
   "metadata": {},
   "source": []
  },
  {
   "cell_type": "raw",
   "metadata": {},
   "source": []
  }
 ],
 "metadata": {
  "kernelspec": {
   "display_name": "Python 3",
   "language": "python",
   "name": "python3"
  },
  "language_info": {
   "codemirror_mode": {
    "name": "ipython",
    "version": 3
   },
   "file_extension": ".py",
   "mimetype": "text/x-python",
   "name": "python",
   "nbconvert_exporter": "python",
   "pygments_lexer": "ipython3",
   "version": "3.7.4"
  }
 },
 "nbformat": 4,
 "nbformat_minor": 4
}
