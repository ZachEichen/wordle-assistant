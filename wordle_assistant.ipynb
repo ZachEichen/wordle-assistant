{
 "cells": [
  {
   "cell_type": "code",
   "execution_count": 59,
   "metadata": {},
   "outputs": [],
   "source": [
    "#import stuff \n",
    "import wordle_words as wordle\n",
    "from collections import Counter\n",
    "from tqdm import tqdm"
   ]
  },
  {
   "cell_type": "code",
   "execution_count": 90,
   "metadata": {},
   "outputs": [],
   "source": [
    "# new way of inputting information \n",
    "\n",
    "# Here to input information, put in your five letter guess, \n",
    "# followed by the response in the following way: \n",
    "#  put ('guess','response'), on the list, where each character of 'response' \n",
    "#  indicates the color that the corresponding character of the guess turned: \n",
    "#    *  if the Tile turned green,  put 'g'\n",
    "#    *  if the Tile turned yellow, put 'y'\n",
    "#    *  if the Tile turned gray,   put 'x' \n",
    "# so for example if you guessed 'tears', and the correct word was 'rebut', \n",
    "#       the response string would be 'ygxyx'\n",
    "\n",
    "# You should always start with the guess 'tears', rather than re-running this program \n",
    "\n",
    "Guesses = [\n",
    "    ('tears','ygxyx'),  \n",
    "    ('micht','xxxxg'),\n",
    "    ('elbow','yxgxx')\n",
    "]"
   ]
  },
  {
   "cell_type": "code",
   "execution_count": 91,
   "metadata": {},
   "outputs": [
    {
     "name": "stdout",
     "output_type": "stream",
     "text": [
      "{1: 'e', 4: 't', 2: 'b'}\n",
      "[(0, 't'), (3, 'r'), (0, 'e')]\n",
      "asmichlow\n"
     ]
    }
   ],
   "source": [
    "known_letters = {}\n",
    "yellow_letters = []\n",
    "wrong_letters = ''\n",
    "for guess,resp in Guesses: \n",
    "    for i in range(5): \n",
    "        if resp[i] == 'g': \n",
    "            known_letters[i] = guess[i]\n",
    "        elif resp[i] == 'y': \n",
    "            yellow_letters.append((i,guess[i]))\n",
    "        else: \n",
    "            wrong_letters += guess[i]\n",
    "            \n",
    "print(known_letters)\n",
    "print(yellow_letters)\n",
    "print(wrong_letters)"
   ]
  },
  {
   "cell_type": "code",
   "execution_count": 92,
   "metadata": {},
   "outputs": [
    {
     "name": "stdout",
     "output_type": "stream",
     "text": [
      "narrowing based off of 'e' in spot 1\n",
      "\t list size is 1628\n",
      "narrowing based off of 't' in spot 4\n",
      "\t list size is 86\n",
      "narrowing based off of 'b' in spot 2\n",
      "\t list size is 4\n",
      "narrowing based off of 't' in spot 0\n",
      "\t list size is 4\n",
      "narrowing based off of 'r' in spot 3\n",
      "\t list size is 2\n",
      "narrowing based off of 'e' in spot 0\n",
      "\t list size is 2\n",
      "narrowing words based off of incorrect letters\n",
      "\t list size is 1\n",
      "all possible words are: ['rebut']\n"
     ]
    }
   ],
   "source": [
    "possible_words = wordle.words\n",
    "\n",
    "# start by narrowing based off of known letters \n",
    "for ind, val in known_letters.items():\n",
    "    if val == '' : \n",
    "        continue \n",
    "    print(f\"narrowing based off of '{val}' in spot {ind}\")\n",
    "    possible_words = [word for word in  possible_words if word[ind] == val]\n",
    "    print(f\"\\t list size is {len(list(possible_words))}\")\n",
    "\n",
    "# then look at all yellow letters \n",
    "for ind, val in yellow_letters:\n",
    "    if val == '' : \n",
    "        continue \n",
    "    print(f\"narrowing based off of '{val}' in spot {ind}\")\n",
    "    possible_words = [word for word in  possible_words if val in word and word[ind] != val]\n",
    "    print(f\"\\t list size is {len(list(possible_words))}\")\n",
    "# finally look at all letters not in the words \n",
    "\n",
    "print(\"narrowing words based off of incorrect letters\")\n",
    "for let in wrong_letters: \n",
    "#     print(f\"narrowing based off of incorrect letter '{let}'\")\n",
    "    possible_words = [word for word in  possible_words if let not in word ]\n",
    "#     print(f'list is {possible_words}')\n",
    "print(f\"\\t list size is {len(list(possible_words))}\")\n",
    "\n",
    "\n",
    "print(f\"all possible words are: {list(possible_words)}\")"
   ]
  },
  {
   "cell_type": "code",
   "execution_count": 89,
   "metadata": {},
   "outputs": [
    {
     "name": "stderr",
     "output_type": "stream",
     "text": [
      "100%|██████████| 8689/8689 [00:00<00:00, 43590.54it/s]"
     ]
    },
    {
     "name": "stdout",
     "output_type": "stream",
     "text": [
      "{'guess': 'balow', 'num_uniques': 6, 'resp_distro': Counter({'gxxxx': 1, 'yxxxx': 1, 'xxgxx': 1, 'xxxgx': 1, 'xxxxx': 1, 'xxxxy': 1})}\n",
      "{'guess': 'below', 'num_uniques': 6, 'resp_distro': Counter({'ggxxx': 1, 'ygxxx': 1, 'xggxx': 1, 'xgxgx': 1, 'xgxxx': 1, 'xgxxy': 1})}\n",
      "{'guess': 'bevel', 'num_uniques': 6, 'resp_distro': Counter({'ggxgx': 1, 'ygxyx': 1, 'xgxgy': 1, 'xgxyx': 1, 'xgggx': 1, 'xgxgx': 1})}\n",
      "{'guess': 'blown', 'num_uniques': 6, 'resp_distro': Counter({'gxxxx': 1, 'yxxxx': 1, 'xyxxx': 1, 'xxyxx': 1, 'xxxxx': 1, 'xxxyx': 1})}\n",
      "{'guess': 'blowy', 'num_uniques': 6, 'resp_distro': Counter({'gxxxx': 1, 'yxxxx': 1, 'xyxxx': 1, 'xxyxx': 1, 'xxxxx': 1, 'xxxyx': 1})}\n",
      "{'guess': 'bowel', 'num_uniques': 6, 'resp_distro': Counter({'gxxgx': 1, 'yxxyx': 1, 'xxxgy': 1, 'xyxyx': 1, 'xxxgx': 1, 'xxggx': 1})}\n",
      "{'guess': 'bowla', 'num_uniques': 6, 'resp_distro': Counter({'gxxxx': 1, 'yxxxx': 1, 'xxxyx': 1, 'xyxxx': 1, 'xxxxx': 1, 'xxgxx': 1})}\n",
      "{'guess': 'bowls', 'num_uniques': 6, 'resp_distro': Counter({'gxxxx': 1, 'yxxxx': 1, 'xxxyx': 1, 'xyxxx': 1, 'xxxxx': 1, 'xxgxx': 1})}\n",
      "{'guess': 'bowly', 'num_uniques': 6, 'resp_distro': Counter({'gxxxx': 1, 'yxxxx': 1, 'xxxyx': 1, 'xyxxx': 1, 'xxxxx': 1, 'xxgxx': 1})}\n",
      "{'guess': 'elbow', 'num_uniques': 6, 'resp_distro': Counter({'yxyxx': 1, 'yxgxx': 1, 'yyxxx': 1, 'yxxgx': 1, 'yxxxx': 1, 'yxxxy': 1})}\n",
      "{'guess': 'rowel', 'num_uniques': 6, 'resp_distro': Counter({'yxxgx': 1, 'gxxyx': 1, 'gxxgy': 1, 'gyxyx': 1, 'gxxgx': 1, 'gxggx': 1})}\n",
      "{'guess': 'vowel', 'num_uniques': 6, 'resp_distro': Counter({'xxxgx': 1, 'xxxyx': 1, 'xxxgy': 1, 'xyxyx': 1, 'yxxgx': 1, 'xxggx': 1})}\n"
     ]
    },
    {
     "name": "stderr",
     "output_type": "stream",
     "text": [
      "\n"
     ]
    }
   ],
   "source": [
    "# hard mode based geussing\n",
    "hard_mode = False # currently hard mode is not garunteed to be 'optimal'. \n",
    "                  # But when only a few options are avaliable, it often performs better.\n",
    "\n",
    "possible_guesses = possible_words  if hard_mode else wordle.nltk_words\n",
    "best_num_uniques = 0 \n",
    "best_guesses = []\n",
    "for guess in tqdm(possible_guesses):\n",
    "#     print(f'guess is {guess}')\n",
    "    resps = []\n",
    "    for ans in possible_words: \n",
    "        resp = ['g' if ans[i] == c else 'y' if c in ans else 'x' for i,c in enumerate(guess)]\n",
    "#         print(f\"word is {ans}, ans is '{''.join(resp)}'\")\n",
    "\n",
    "        resps.append(''.join(resp))\n",
    "    num_uniques = len(Counter(resps))\n",
    "    if num_uniques > best_num_uniques: \n",
    "        best_guesses = []\n",
    "        best_num_uniques = num_uniques\n",
    "    if num_uniques >= best_num_uniques: \n",
    "        entr = {\n",
    "            \"guess\":        guess,\n",
    "            \"num_uniques\":  num_uniques, \n",
    "            \"resp_distro\":  Counter(resps)\n",
    "        }\n",
    "        best_guesses.append(entr)\n",
    "    \n",
    "for guess in best_guesses:\n",
    "    printafterline=False\n",
    "    if guess['guess'] in possible_words and not hard_mode:\n",
    "        printafterline = True \n",
    "        print(\"Reccomended word: \")\n",
    "    print(guess)\n",
    "    if printafterline : \n",
    "        print(\" \")\n",
    "        \n",
    "    "
   ]
  },
  {
   "cell_type": "code",
   "execution_count": 29,
   "metadata": {},
   "outputs": [
    {
     "name": "stdout",
     "output_type": "stream",
     "text": [
      "12972\n",
      "8689\n",
      "2315\n"
     ]
    }
   ],
   "source": [
    "print(len(wordle.words))\n",
    "print(len(wordle.nltk_words))\n",
    "print(len(wordle.sc_words))"
   ]
  },
  {
   "cell_type": "code",
   "execution_count": null,
   "metadata": {},
   "outputs": [],
   "source": []
  }
 ],
 "metadata": {
  "kernelspec": {
   "display_name": "Python 3",
   "language": "python",
   "name": "python3"
  },
  "language_info": {
   "codemirror_mode": {
    "name": "ipython",
    "version": 3
   },
   "file_extension": ".py",
   "mimetype": "text/x-python",
   "name": "python",
   "nbconvert_exporter": "python",
   "pygments_lexer": "ipython3",
   "version": "3.7.4"
  }
 },
 "nbformat": 4,
 "nbformat_minor": 4
}
