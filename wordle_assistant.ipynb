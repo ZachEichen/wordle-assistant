{
 "cells": [
  {
   "cell_type": "code",
   "execution_count": null,
   "metadata": {},
   "outputs": [],
   "source": [
    "## If you are in google CoLab, Uncomment the following two lines, to download data files \n",
    "!wget --quiet https://raw.githubusercontent.com/ZachEichen/wordle-assistant/main/wordle.py \n",
    "!wget --quiet https://raw.githubusercontent.com/ZachEichen/wordle-assistant/main/wordle_words.json\n",
    "\n",
    "%load_ext autoreload\n",
    "%autoreload 2\n",
    "\n",
    "from wordle import Wordle \n"
   ]
  },
  {
   "cell_type": "code",
   "execution_count": null,
   "metadata": {},
   "outputs": [],
   "source": [
    "# new way of inputting information \n",
    "\n",
    "# Here to input information, put in your five letter guess, \n",
    "# followed by the response in the following way: \n",
    "#  put ('guess','response'), on the list, where each character of 'response' \n",
    "#  indicates the color that the corresponding character of the guess turned: \n",
    "#    *  if the Tile turned green,  put 'g'\n",
    "#    *  if the Tile turned yellow, put 'y'\n",
    "#    *  if the Tile turned gray,   put 'x' \n",
    "# so for example if you guessed 'tears', and the correct word was 'rebut', \n",
    "#       the response string would be 'ygxyx'\n",
    "\n",
    "# You should always start with the guess 'tears' or 'soare' or 'trace' or 'crane', rather than re-running this program \n",
    "wordle = Wordle() # create instance of wordle words object\n",
    "\n",
    "Guesses = [\n",
    "    ('soare','gxxxx'),  \n",
    "    ('sight','gyxxx'),\n",
    "    # ('slick','gygxy'),\n",
    "#     ('joint','xgggg')\n",
    "]\n",
    "\n",
    "wordle.add_guesses(Guesses, reset_info=True) "
   ]
  },
  {
   "cell_type": "code",
   "execution_count": null,
   "metadata": {},
   "outputs": [],
   "source": [
    "valid_words = wordle.get_possible_words()\n",
    "\n",
    "print(f'Found {len(valid_words)} valid_words')\n",
    "if len(valid_words) < 50: \n",
    "    print(valid_words)\n",
    "else: \n",
    "    print(\"Too many words to display\")"
   ]
  },
  {
   "cell_type": "code",
   "execution_count": null,
   "metadata": {},
   "outputs": [],
   "source": [
    "opt_guesses = wordle.get_best_guesses(use_tqdm=False)\n",
    "opt_guesses"
   ]
  }
 ],
 "metadata": {
  "kernelspec": {
   "display_name": "Python 3 (ipykernel)",
   "language": "python",
   "name": "python3"
  },
  "language_info": {
   "codemirror_mode": {
    "name": "ipython",
    "version": 3
   },
   "file_extension": ".py",
   "mimetype": "text/x-python",
   "name": "python",
   "nbconvert_exporter": "python",
   "pygments_lexer": "ipython3",
   "version": "3.7.4"
  }
 },
 "nbformat": 4,
 "nbformat_minor": 4
}
