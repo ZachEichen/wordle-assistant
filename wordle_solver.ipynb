{
 "cells": [
  {
   "cell_type": "code",
   "execution_count": 30,
   "metadata": {},
   "outputs": [],
   "source": [
    "#import stuff \n",
    "import wordle_words as wordle\n",
    "from collections import Counter"
   ]
  },
  {
   "cell_type": "code",
   "execution_count": 57,
   "metadata": {},
   "outputs": [],
   "source": [
    "# wordle wordlist: \n",
    "known_letters = {\n",
    "    0: '',\n",
    "    1: 'a',\n",
    "    2: '',\n",
    "    3: '',\n",
    "    4: '',\n",
    "}\n",
    "yellow_letters =  {\n",
    "    0: '',\n",
    "    1: '',\n",
    "    2: '',\n",
    "    3: '',\n",
    "    4: '',\n",
    "}\n",
    "wrong_letters = \"cestimj\"\n"
   ]
  },
  {
   "cell_type": "code",
   "execution_count": 58,
   "metadata": {},
   "outputs": [
    {
     "name": "stdout",
     "output_type": "stream",
     "text": [
      "narrowing based off of 'a' in spot 1\n",
      "\t list size is 304\n",
      "narrowing words based off of incorrect letters\n",
      "\t list size is 42\n",
      "all possible words are: ['badly', 'baggy', 'banal', 'baron', 'bawdy', 'bayou', 'daddy', 'dally', 'dandy', 'fanny', 'fauna', 'favor', 'gaudy', 'gawky', 'gayly', 'handy', 'happy', 'hardy', 'harpy', 'harry', 'kappa', 'kayak', 'labor', 'lanky', 'larva', 'laugh', 'nanny', 'naval', 'paddy', 'pagan', 'papal', 'parka', 'parry', 'radar', 'rally', 'ralph', 'randy', 'rayon', 'razor', 'valor', 'vapor', 'wagon']\n"
     ]
    }
   ],
   "source": [
    "possible_words = wordle.sc_words\n",
    "\n",
    "# start by narrowing based off of known letters \n",
    "for ind, val in known_letters.items():\n",
    "    if val == '' : \n",
    "        continue \n",
    "    print(f\"narrowing based off of '{val}' in spot {ind}\")\n",
    "    possible_words = [word for word in  possible_words if word[ind] == val]\n",
    "    print(f\"\\t list size is {len(list(possible_words))}\")\n",
    "\n",
    "# then look at all yellow letters \n",
    "for ind, val in yellow_letters.items():\n",
    "    if val == '' : \n",
    "        continue \n",
    "    print(f\"narrowing based off of '{val}' in spot {ind}\")\n",
    "    possible_words = [word for word in  possible_words if val in word and word[ind] != val]\n",
    "    print(f\"\\t list size is {len(list(possible_words))}\")\n",
    "# finally look at all letters not in the words \n",
    "\n",
    "print(\"narrowing words based off of incorrect letters\")\n",
    "for let in wrong_letters: \n",
    "#     print(f\"narrowing based off of incorrect letter '{let}'\")\n",
    "    possible_words = [word for word in  possible_words if let not in word ]\n",
    "#     print(f'list is {possible_words}')\n",
    "print(f\"\\t list size is {len(list(possible_words))}\")\n",
    "\n",
    "\n",
    "print(f\"all possible words are: {list(possible_words)}\")"
   ]
  },
  {
   "cell_type": "code",
   "execution_count": 59,
   "metadata": {},
   "outputs": [
    {
     "name": "stdout",
     "output_type": "stream",
     "text": [
      "{'guess': 'porgy', 'num_uniques': 25, 'resp_distro': Counter({'xxxxg': 9, 'xyyxx': 4, 'xxxxx': 3, 'xxxyg': 3, 'xxgxg': 2, 'xxyxg': 2, 'xxxgg': 1, 'xygxx': 1, 'xyxxy': 1, 'yxxxg': 1, 'yxgxg': 1, 'yxxxx': 1, 'xxxxy': 1, 'xxgxx': 1, 'xxxgx': 1, 'gxxxg': 1, 'gxxyx': 1, 'gxxxx': 1, 'gxgxx': 1, 'gxgxg': 1, 'xxyxx': 1, 'yxyxx': 1, 'xyyxy': 1, 'yyyxx': 1, 'xyxyx': 1})}\n",
      "{'guess': 'pylar', 'num_uniques': 25, 'resp_distro': Counter({'xyxyx': 10, 'xyxyy': 4, 'xyyyx': 3, 'xxygx': 2, 'xxxyx': 2, 'xxxyg': 2, 'xxxyy': 1, 'xygyx': 1, 'yyxyx': 1, 'yyxyy': 1, 'yxxyx': 1, 'xyxgx': 1, 'xxyyg': 1, 'xxyyy': 1, 'xxyyx': 1, 'gyxyx': 1, 'gxxgx': 1, 'gxygx': 1, 'gxxyy': 1, 'gyxyy': 1, 'xxxgg': 1, 'xygyy': 1, 'yxgyy': 1, 'xxgyg': 1, 'yxxyg': 1})}\n"
     ]
    }
   ],
   "source": [
    "# hard mode based geussing\n",
    "hard_mode = True # currently non-hard mode is not supported  \n",
    "\n",
    "possible_guesses = possible_words  if hard_mode else wordle.nltk_words\n",
    "best_num_uniques = 0 \n",
    "best_guesses = []\n",
    "for guess in possible_guesses:\n",
    "#     print(f'guess is {guess}')\n",
    "    resps = []\n",
    "    for ans in possible_words: \n",
    "        resp = ['g' if ans[i] == c else 'y' if c in ans else 'x' for i,c in enumerate(guess)]\n",
    "#         print(f\"word is {ans}, ans is '{''.join(resp)}'\")\n",
    "\n",
    "        resps.append(''.join(resp))\n",
    "    num_uniques = len(Counter(resps))\n",
    "    if num_uniques > best_num_uniques: \n",
    "        best_guesses = []\n",
    "        best_num_uniques = num_uniques\n",
    "    if num_uniques >= best_num_uniques: \n",
    "        entr = {\n",
    "            \"guess\":        guess,\n",
    "            \"num_uniques\":  num_uniques, \n",
    "            \"resp_distro\":  Counter(resps)\n",
    "        }\n",
    "        best_guesses.append(entr)\n",
    "    \n",
    "for guess in best_guesses:\n",
    "    printafterline=False\n",
    "    if guess['guess'] in possible_words and not hard_mode:\n",
    "        printafterline = True \n",
    "        print(\"Reccomended word: \")\n",
    "    print(guess)\n",
    "    if printafterline : \n",
    "        print(\" \")\n",
    "        \n",
    "    "
   ]
  },
  {
   "cell_type": "code",
   "execution_count": 11,
   "metadata": {},
   "outputs": [
    {
     "name": "stdout",
     "output_type": "stream",
     "text": [
      "12972\n",
      "8689\n",
      "2315\n"
     ]
    }
   ],
   "source": [
    "print(len(wordle.words))\n",
    "print(len(wordle.nltk_words))\n",
    "print(len(wordle.sc_words))"
   ]
  }
 ],
 "metadata": {
  "kernelspec": {
   "display_name": "Python 3",
   "language": "python",
   "name": "python3"
  },
  "language_info": {
   "codemirror_mode": {
    "name": "ipython",
    "version": 3
   },
   "file_extension": ".py",
   "mimetype": "text/x-python",
   "name": "python",
   "nbconvert_exporter": "python",
   "pygments_lexer": "ipython3",
   "version": "3.7.4"
  }
 },
 "nbformat": 4,
 "nbformat_minor": 4
}
